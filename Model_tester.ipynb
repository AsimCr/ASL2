{
 "cells": [
  {
   "cell_type": "code",
   "execution_count": 29,
   "id": "66684c7c",
   "metadata": {},
   "outputs": [],
   "source": [
    "#Importations\n",
    "\n",
    "import json\n",
    "import re\n",
    "import os\n",
    "\n",
    "import numpy as np\n",
    "\n",
    "from keras.models import load_model\n",
    "from keras.preprocessing.text import Tokenizer, tokenizer_from_json\n",
    "from keras.preprocessing.sequence import pad_sequences"
   ]
  },
  {
   "cell_type": "markdown",
   "id": "6ecce45a",
   "metadata": {},
   "source": [
    "## Load Files"
   ]
  },
  {
   "cell_type": "markdown",
   "id": "5a79fc1d",
   "metadata": {},
   "source": [
    "Loading trained models, the used tokenizer, needed txt files"
   ]
  },
  {
   "cell_type": "code",
   "execution_count": 30,
   "id": "1d5ca07c",
   "metadata": {},
   "outputs": [],
   "source": [
    "Lemma_model = load_model(\"Models/Lemma_model.h5\")\n",
    "POS_model = load_model(\"Models/POS_model.h5\")\n",
    "\n",
    "#Import the tokenizers from the training phase to tkenize new sentences for prediction.\n",
    "\n",
    "TokenBase = \"Models/Tokenizers/\"\n",
    "with open(TokenBase+'Letter_tokenizer.json') as f:\n",
    "    data = json.load(f)\n",
    "    Letter_tokenizer = tokenizer_from_json(data)\n",
    "\n",
    "\n",
    "TxtBase = \"Models/txt/\"\n",
    "StopWords = open(TxtBase+\"StopWords.txt\",\"r\",encoding=\"utf-8\").readlines()\n",
    "for i in range(len(StopWords)):\n",
    "    StopWords[i] = StopWords[i].replace(\"\\n\",\"\")\n",
    "Prepositions = open(TxtBase+\"Prepositions.txt\",\"r\",encoding=\"utf-8\").readlines()\n",
    "for i in range(len(Prepositions)):\n",
    "    Prepositions[i] = Prepositions[i].replace(\"\\n\",\"\")\n",
    "    \n",
    "    \n",
    "os.environ['TF_CPP_MIN_LOG_LEVEL'] = '3'\n",
    "seq_length = 25"
   ]
  },
  {
   "cell_type": "markdown",
   "id": "31b9e2cc",
   "metadata": {},
   "source": [
    "- Preprocessing functions to prepare text before prediction. "
   ]
  },
  {
   "cell_type": "code",
   "execution_count": 119,
   "id": "8209d1ec",
   "metadata": {},
   "outputs": [],
   "source": [
    "arabic_diacritics = re.compile(\"\"\"  ّ| َ| ً| ُ| ٌ| ِ| ٍ| ْ| ٰ \"\"\", re.VERBOSE)\n",
    "def remove_diac(text):\n",
    "    text = re.sub(arabic_diacritics, '', text)\n",
    "    text = text.replace(\"ٱ\", \"ا\")\n",
    "    return text"
   ]
  },
  {
   "cell_type": "code",
   "execution_count": 32,
   "id": "055ac821",
   "metadata": {},
   "outputs": [],
   "source": [
    "#tokenize letters to numbers, pad them.\n",
    "def encode_sequences(tokenizer, length, lines):\n",
    "    seq = tokenizer.texts_to_sequences(lines)\n",
    "    seq = pad_sequences(seq, maxlen=length, padding='post',truncating='post')\n",
    "    return seq"
   ]
  },
  {
   "cell_type": "code",
   "execution_count": 33,
   "id": "3658a179",
   "metadata": {},
   "outputs": [],
   "source": [
    "#Receives Text as input, clean it, split it, handels punctuation marks, returns it as list of words. \n",
    "def splitter(Text):\n",
    "    Result = ''\n",
    "    Result = ''.join([Result+(remove_diac(Word)) for Word in Text])   #Remove diacritics, it makes work a lot harded\n",
    "    Result = re.findall(r\"\\w+|[^\\w\\s]\", Result, re.UNICODE)           #Separate punctuation marks of words\n",
    "    return(Result)"
   ]
  },
  {
   "cell_type": "markdown",
   "id": "2b72c214",
   "metadata": {},
   "source": [
    "- Main predicting function to be used in the decoder"
   ]
  },
  {
   "cell_type": "code",
   "execution_count": 34,
   "id": "ae96fe5b",
   "metadata": {},
   "outputs": [],
   "source": [
    "def predicter(Text):\n",
    "\n",
    "    #Text preprocessing from [Example] to [2,3,4,4,4,0,0,0] to get pridected\n",
    "    Text_Split = Text.split()\n",
    "    Text_join = [(' '.join(elem)) for elem in Text_Split]\n",
    "    Word_Test = encode_sequences(Letter_tokenizer, seq_length, Text_join)\n",
    "\n",
    "    #pridection\n",
    "    preds = np.argmax(Lemma_model.predict((Word_Test.reshape((Word_Test.shape[0],Word_Test.shape[1])))), axis=-1)\n",
    "    return preds"
   ]
  },
  {
   "cell_type": "markdown",
   "id": "c6722b15",
   "metadata": {},
   "source": [
    "# The Decoder"
   ]
  },
  {
   "cell_type": "markdown",
   "id": "4e87e9c5",
   "metadata": {},
   "source": [
    "the below cell works as the decoder, it takes the output prediction as sequence, decode it into text. "
   ]
  },
  {
   "cell_type": "code",
   "execution_count": 35,
   "id": "847cf185",
   "metadata": {},
   "outputs": [],
   "source": [
    "# Receives one Sequnce, decode it into one Letter\n",
    "def get_Letter(n, tokenizer):\n",
    "    for word, index in tokenizer.word_index.items():\n",
    "        if index == n:\n",
    "            return word\n",
    "    return None\n",
    "\n",
    "# Receives a word, Predict its result and outputs it as Sequences\n",
    "def PredResult(Text):\n",
    "    preds = predicter(Text)\n",
    "    preds_text = []\n",
    "    for lemma in preds:                  #handle each sequnce(One letter) individually using get_Letter()\n",
    "        temp = []\n",
    "        for letter in range(len(lemma)):\n",
    "            resLetter = get_Letter(lemma[letter], Letter_tokenizer)                  #Decode Sequence \n",
    "            if (resLetter != None):\n",
    "                temp.append(resLetter)\n",
    "        preds_text.append(''.join(temp))     #If result was found, add the new letter to the previous to form a word\n",
    "    return preds_text[0]"
   ]
  },
  {
   "cell_type": "markdown",
   "id": "302e667b",
   "metadata": {},
   "source": [
    "# Main function to extract lemmas"
   ]
  },
  {
   "cell_type": "code",
   "execution_count": 184,
   "id": "514d3917",
   "metadata": {},
   "outputs": [],
   "source": [
    "def GetLemma(Text):\n",
    "    Result = ''\n",
    "    Text_Split = splitter(Text)         #Split text to handle each word separately\n",
    "    for Word in Text_Split:\n",
    "        if (Word in StopWords) or (Word.isnumeric()) or (bool(re.match(\"[.!?:;,\\\\-]\", Word))):\n",
    "            Result = Result+\" \"+Word\n",
    "        else:                                  #Sends word to decoder, add the result to five full output\n",
    "            Result = Result+\" \"+str(PredResult(Word))\n",
    "    return Result"
   ]
  },
  {
   "cell_type": "markdown",
   "id": "a3344796",
   "metadata": {},
   "source": [
    "# Main function to extract POS"
   ]
  },
  {
   "cell_type": "code",
   "execution_count": 199,
   "id": "f9b58b58",
   "metadata": {},
   "outputs": [],
   "source": [
    "def GetPOS(Text):\n",
    "    Lemmas = GetLemma(Text).split()        # First get lemmas for better result\n",
    "    Text = Text.split()\n",
    "    result = []\n",
    "    for i in range(len(Lemmas)):\n",
    "        if (remove_diac(Lemmas[i]) in Prepositions):\n",
    "            result.append(Lemmas[i]+\"(حرف)\")\n",
    "        else:                                        # Preproccess before prediction\n",
    "            padded = encode_sequences(Letter_tokenizer, seq_length, [' '.join((list(Lemmas[i])))])\n",
    "            pred = POS_model.predict(padded)\n",
    "            labels = ['اسم - صفة', 'اسم - حال', 'اسم', 'حرف', 'اسم - ضمير', 'فعل']\n",
    "            result.append(Text[i]+\" \"+\"(\"+labels[np.argmax(pred)]+\")\")\n",
    "            Result = ' '.join(list(result))\n",
    "    return Result "
   ]
  },
  {
   "cell_type": "code",
   "execution_count": 200,
   "id": "75dfaec0",
   "metadata": {},
   "outputs": [],
   "source": [
    "# Helper function for GetAssociation, returns the needed POS for Association\n",
    "#smaller version of the above function\n",
    "\n",
    "def GetSmallPOS(word):\n",
    "    padded = encode_sequences(Letter_tokenizer, seq_length, [' '.join((list(word)))])\n",
    "    pred = POS_model.predict(padded)\n",
    "    labels = ['3', 'n', '2', 'n', 'n', '1']\n",
    "    result = labels[np.argmax(pred)]\n",
    "    return result"
   ]
  },
  {
   "cell_type": "markdown",
   "id": "c42b547e",
   "metadata": {},
   "source": [
    "# Main function to extract POS"
   ]
  },
  {
   "cell_type": "code",
   "execution_count": 201,
   "id": "e581e678",
   "metadata": {},
   "outputs": [],
   "source": [
    "def GetAssociation(Text):\n",
    "    Lemma = GetLemma(Text).split()        # First get lemmas for better result\n",
    "    Text = Text.split()\n",
    "    result = []\n",
    "    for i in range(len(Lemma)):        # every round of the loop, we will use the Current word and the next one\n",
    "        if (i == len(Lemma)-1):        # If this is the last word, break\n",
    "            break\n",
    "        if (remove_diac(Lemma[i]) in Prepositions):\n",
    "            continue\n",
    "        CurrentWord = GetSmallPOS(Lemma[i])\n",
    "        NextWord = GetSmallPOS(Lemma[i+1])\n",
    "                         # if the Current word's result is 1 and the next's result is 2 this is Association, and so on..\n",
    "        if ((CurrentWord == \"1\") and (NextWord == \"2\")) or ((CurrentWord == \"2\") and (NextWord == \"3\")):\n",
    "            result.append(Text[i]+\"-\"+Text[i+1])\n",
    "    return result"
   ]
  },
  {
   "cell_type": "code",
   "execution_count": 210,
   "id": "919d92e8",
   "metadata": {},
   "outputs": [],
   "source": [
    "Text = \"يذهب الرجل في مساء كل يوم لشراء العرض المجاني\""
   ]
  },
  {
   "cell_type": "code",
   "execution_count": 211,
   "id": "5137154a",
   "metadata": {},
   "outputs": [
    {
     "data": {
      "text/plain": [
       "' ذَهَبَ رَجُل في مساء كُلّ يَوْم شِراء عَرْض مَجّانِيّ'"
      ]
     },
     "execution_count": 211,
     "metadata": {},
     "output_type": "execute_result"
    }
   ],
   "source": [
    "GetLemma(Text)"
   ]
  },
  {
   "cell_type": "code",
   "execution_count": 212,
   "id": "bd0f86b6",
   "metadata": {},
   "outputs": [
    {
     "data": {
      "text/plain": [
       "'يذهب (فعل) الرجل (اسم) في(حرف) مساء (اسم) كل (اسم) يوم (اسم) لشراء (اسم) العرض (اسم) المجاني (اسم - صفة)'"
      ]
     },
     "execution_count": 212,
     "metadata": {},
     "output_type": "execute_result"
    }
   ],
   "source": [
    "GetPOS(Text)"
   ]
  },
  {
   "cell_type": "code",
   "execution_count": 213,
   "id": "0d628246",
   "metadata": {},
   "outputs": [
    {
     "data": {
      "text/plain": [
       "['يذهب-الرجل', 'العرض-المجاني']"
      ]
     },
     "execution_count": 213,
     "metadata": {},
     "output_type": "execute_result"
    }
   ],
   "source": [
    "GetAssociation(Text)"
   ]
  },
  {
   "cell_type": "code",
   "execution_count": 22,
   "id": "801fcca5",
   "metadata": {},
   "outputs": [
    {
     "data": {
      "text/plain": [
       "True"
      ]
     },
     "execution_count": 22,
     "metadata": {},
     "output_type": "execute_result"
    }
   ],
   "source": [
    "import re\n",
    "\n",
    "bool(re.match(\"[.!?:;,\\\\-]\", \":\"))"
   ]
  }
 ],
 "metadata": {
  "kernelspec": {
   "display_name": "Python 3 (ipykernel)",
   "language": "python",
   "name": "python3"
  },
  "language_info": {
   "codemirror_mode": {
    "name": "ipython",
    "version": 3
   },
   "file_extension": ".py",
   "mimetype": "text/x-python",
   "name": "python",
   "nbconvert_exporter": "python",
   "pygments_lexer": "ipython3",
   "version": "3.8.8"
  }
 },
 "nbformat": 4,
 "nbformat_minor": 5
}
